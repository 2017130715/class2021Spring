{
  "nbformat": 4,
  "nbformat_minor": 0,
  "metadata": {
    "colab": {
      "name": "programming.ipynb",
      "provenance": [],
      "authorship_tag": "ABX9TyNVWhlOclgILPHyWY+VmCID",
      "include_colab_link": true
    },
    "kernelspec": {
      "name": "python3",
      "display_name": "Python 3"
    }
  },
  "cells": [
    {
      "cell_type": "markdown",
      "metadata": {
        "id": "view-in-github",
        "colab_type": "text"
      },
      "source": [
        "<a href=\"https://colab.research.google.com/github/2017130715/class2021Spring/blob/main/programming.ipynb\" target=\"_parent\"><img src=\"https://colab.research.google.com/assets/colab-badge.svg\" alt=\"Open In Colab\"/></a>"
      ]
    },
    {
      "cell_type": "code",
      "metadata": {
        "id": "v__o_cJfT75-"
      },
      "source": [
        ""
      ],
      "execution_count": null,
      "outputs": []
    },
    {
      "cell_type": "markdown",
      "metadata": {
        "id": "7MJrhU6EUb5I"
      },
      "source": [
        ""
      ]
    },
    {
      "cell_type": "markdown",
      "metadata": {
        "id": "wibQKMDzozN8"
      },
      "source": [
        "##Programming Language\r\n",
        "\r\n",
        "*인간언어 -> 단어 + 문법, 하지만 프로그래밍 언어도 비슷,\r\n",
        "\r\n",
        "\r\n",
        "*단어 = 변수\r\n",
        "\r\n",
        "*Ex. a = 1, 이때 a는 variable(변수), 등호(=)는 오른쪽의 내용을 왼쪽에 assign한다는 의미, 즉 a라는 변수에 1이라는 내용을 assign.\r\n",
        "\r\n",
        "\r\n",
        "*문법= 제어문 (1. 반복, 2. 조건)\r\n",
        " \r\n",
        "1. 반복: for {ex. for 100 print(1) => 100번 동안 1을 찍어 냄} - 제일 중요\r\n",
        " \r\n",
        "2. 조건: if {a = 1, if a == 1, print(3) => a가 진짜 1이면 3을 찍어 냄} (+ ==은 진짜라는 의미) – 조건을 지정해서 무언가를 실행가능\r\n",
        " - 이 두가지가 컴퓨터 제어문 중 가장 중요함.\r\n",
        "\r\n",
        "\r\n",
        "*함수 – 입출력 관계에서 어떠한 변화가 있을 때 그 변화가 함수가 하는 역할.\r\n",
        " \r\n",
        " -인간의 몸 또한 함수라고 할 수 있음, 소리라는 입력값을 토대로 그 소리의 의미, 결과를 출력값이라고 생각할 수 있고, 음식물을 입력값, 배설물을 출력값이라고도 생각 가능, 사진, 컴퓨터, 휴대폰, 우리 주위의 모든 것들이 입출력 관계로 설명 가능, 이 중 가장 쉬운 것은 일차함수\r\n",
        " \r\n",
        " -ex. a=1, b=2, add(a, b) in => a + b의 값 out\r\n"
      ]
    }
  ]
}