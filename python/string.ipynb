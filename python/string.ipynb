{
  "nbformat": 4,
  "nbformat_minor": 0,
  "metadata": {
    "colab": {
      "name": "string.ipynb",
      "provenance": [],
      "authorship_tag": "ABX9TyMc2wjgx0A+sPcK0ACwmBLe",
      "include_colab_link": true
    },
    "kernelspec": {
      "name": "python3",
      "display_name": "Python 3"
    }
  },
  "cells": [
    {
      "cell_type": "markdown",
      "metadata": {
        "id": "view-in-github",
        "colab_type": "text"
      },
      "source": [
        "<a href=\"https://colab.research.google.com/github/2017130715/class2021Spring/blob/main/string.ipynb\" target=\"_parent\"><img src=\"https://colab.research.google.com/assets/colab-badge.svg\" alt=\"Open In Colab\"/></a>"
      ]
    },
    {
      "cell_type": "code",
      "metadata": {
        "colab": {
          "base_uri": "https://localhost:8080/"
        },
        "id": "_Dt3WryOSVsB",
        "outputId": "38fe79c9-5b1b-4567-ef3a-18cb2d187558"
      },
      "source": [
        "s = 'abcdef'\r\n",
        "print(s[1], s[4], s[-2], s[-6])\r\n",
        "print(s[0:4], s[2:], s[:6], s[:])"
      ],
      "execution_count": 3,
      "outputs": [
        {
          "output_type": "stream",
          "text": [
            "b e e a\n",
            "abcd cdef abcdef abcdef\n"
          ],
          "name": "stdout"
        }
      ]
    },
    {
      "cell_type": "markdown",
      "metadata": {
        "id": "CWQ2T-3OzTsJ"
      },
      "source": [
        "*a[-1]는 맨 마지막 요소(**가장 오른쪽에 있는 요소), ex. a = ‘abcdef’, a[-2] => e\r\n",
        "\r\n",
        "-a[1:3] => a[1]부터 a[3] 전까지, ex. a = ‘abcdef’, a[1:3] => ‘bc’.\r\n",
        "\r\n",
        "-a[1:] => 1번째부터 끝까지.\r\n",
        "\r\n",
        "-a[:3] => 처음부터 a[3] 전까지\r\n",
        "\r\n",
        "-a[:] => All\r\n"
      ]
    },
    {
      "cell_type": "code",
      "metadata": {
        "colab": {
          "base_uri": "https://localhost:8080/"
        },
        "id": "xnPiF9BQSsU7",
        "outputId": "c9829c71-f3f2-4dbb-e395-1f273ad0ef52"
      },
      "source": [
        "n = [1, 2, 3]\r\n",
        "print(n[0], n[2], n[-1], n[-3])\r\n",
        "print(n[1:2], n[1:], n[:2], n[:])"
      ],
      "execution_count": 4,
      "outputs": [
        {
          "output_type": "stream",
          "text": [
            "1 3 3 1\n",
            "[2] [2, 3] [1, 2] [1, 2, 3]\n"
          ],
          "name": "stdout"
        }
      ]
    },
    {
      "cell_type": "code",
      "metadata": {
        "colab": {
          "base_uri": "https://localhost:8080/"
        },
        "id": "3hAfC12dSsiZ",
        "outputId": "60519e10-bf0b-4f00-921c-6110c803d752"
      },
      "source": [
        "len(s)"
      ],
      "execution_count": null,
      "outputs": [
        {
          "output_type": "execute_result",
          "data": {
            "text/plain": [
              "6"
            ]
          },
          "metadata": {
            "tags": []
          },
          "execution_count": 3
        }
      ]
    },
    {
      "cell_type": "markdown",
      "metadata": {
        "id": "3IwwduGAzdJZ"
      },
      "source": [
        "*len() => 그 구조 내의 길이"
      ]
    },
    {
      "cell_type": "code",
      "metadata": {
        "colab": {
          "base_uri": "https://localhost:8080/",
          "height": 35
        },
        "id": "6LIr6GgoSsku",
        "outputId": "7f424b7c-7fbe-4d43-a06d-574a37e38686"
      },
      "source": [
        "s[1]+s[3]+s[5:]*5"
      ],
      "execution_count": 5,
      "outputs": [
        {
          "output_type": "execute_result",
          "data": {
            "application/vnd.google.colaboratory.intrinsic+json": {
              "type": "string"
            },
            "text/plain": [
              "'bdfffff'"
            ]
          },
          "metadata": {
            "tags": []
          },
          "execution_count": 5
        }
      ]
    },
    {
      "cell_type": "code",
      "metadata": {
        "colab": {
          "base_uri": "https://localhost:8080/",
          "height": 35
        },
        "id": "Ulf_h-hqSsnk",
        "outputId": "7aaec952-730d-406a-ab73-76dfbbf75802"
      },
      "source": [
        "s.upper()"
      ],
      "execution_count": null,
      "outputs": [
        {
          "output_type": "execute_result",
          "data": {
            "application/vnd.google.colaboratory.intrinsic+json": {
              "type": "string"
            },
            "text/plain": [
              "'ABCDEF'"
            ]
          },
          "metadata": {
            "tags": []
          },
          "execution_count": 5
        }
      ]
    },
    {
      "cell_type": "markdown",
      "metadata": {
        "id": "0MAtRq6VzoB_"
      },
      "source": [
        "**s.upper() => s의 요소들을 대문자화"
      ]
    },
    {
      "cell_type": "code",
      "metadata": {
        "colab": {
          "base_uri": "https://localhost:8080/",
          "height": 35
        },
        "id": "ox43S85OTSy6",
        "outputId": "fc30691a-ca1e-413f-9369-f3b5e13d20a1"
      },
      "source": [
        "s = ' this is a house built this year.\\n'\r\n",
        "s"
      ],
      "execution_count": null,
      "outputs": [
        {
          "output_type": "execute_result",
          "data": {
            "application/vnd.google.colaboratory.intrinsic+json": {
              "type": "string"
            },
            "text/plain": [
              "' this is a house built this year.\\n'"
            ]
          },
          "metadata": {
            "tags": []
          },
          "execution_count": 6
        }
      ]
    },
    {
      "cell_type": "code",
      "metadata": {
        "colab": {
          "base_uri": "https://localhost:8080/"
        },
        "id": "ys54ZhwVTS01",
        "outputId": "147dded1-af58-4c91-94d8-0774a79ef5e2"
      },
      "source": [
        "result = s.find('house')      # index of first instance of string t inside s (-1 if not found)\r\n",
        "result"
      ],
      "execution_count": null,
      "outputs": [
        {
          "output_type": "execute_result",
          "data": {
            "text/plain": [
              "11"
            ]
          },
          "metadata": {
            "tags": []
          },
          "execution_count": 7
        }
      ]
    },
    {
      "cell_type": "markdown",
      "metadata": {
        "id": "hZESFUH-zuG3"
      },
      "source": [
        "**s.find() => 문장내에서 () 요소가 몇 번째에 있는지, 없으면 -1출력"
      ]
    },
    {
      "cell_type": "code",
      "metadata": {
        "colab": {
          "base_uri": "https://localhost:8080/"
        },
        "id": "d7ZI3BvnSsp1",
        "outputId": "ada32c22-43fc-4023-f019-f10874fe917d"
      },
      "source": [
        "result = s.find('this')      # index of first instance of string t inside s (-1 if not found)\r\n",
        "result"
      ],
      "execution_count": null,
      "outputs": [
        {
          "output_type": "execute_result",
          "data": {
            "text/plain": [
              "1"
            ]
          },
          "metadata": {
            "tags": []
          },
          "execution_count": 8
        }
      ]
    },
    {
      "cell_type": "code",
      "metadata": {
        "colab": {
          "base_uri": "https://localhost:8080/"
        },
        "id": "pi6hvUcBSswh",
        "outputId": "7bf3b496-95c6-495d-fda7-7f691c7a7a8c"
      },
      "source": [
        "result = s.rindex('this')        # like s.find(t) except it raises ValueError if not found\r\n",
        "result"
      ],
      "execution_count": null,
      "outputs": [
        {
          "output_type": "execute_result",
          "data": {
            "text/plain": [
              "23"
            ]
          },
          "metadata": {
            "tags": []
          },
          "execution_count": 9
        }
      ]
    },
    {
      "cell_type": "markdown",
      "metadata": {
        "id": "Oql8nU8izvNf"
      },
      "source": [
        "뒤에서부터 몇 번째에 있는지."
      ]
    },
    {
      "cell_type": "code",
      "metadata": {
        "colab": {
          "base_uri": "https://localhost:8080/",
          "height": 35
        },
        "id": "EVeW45vGUUtI",
        "outputId": "c23ef4da-f4d3-4fc9-e6ef-271490541a42"
      },
      "source": [
        "s = s.strip()                   # a copy of s without leading or trailing whitespace\r\n",
        "s"
      ],
      "execution_count": null,
      "outputs": [
        {
          "output_type": "execute_result",
          "data": {
            "application/vnd.google.colaboratory.intrinsic+json": {
              "type": "string"
            },
            "text/plain": [
              "'this is a house built this year.'"
            ]
          },
          "metadata": {
            "tags": []
          },
          "execution_count": 11
        }
      ]
    },
    {
      "cell_type": "markdown",
      "metadata": {
        "id": "MUPchKIEzy33"
      },
      "source": [
        "**s.strip() => 문장 앞 뒤에 있는 줄 바꿈, 탭 등 불필요한 것들을 제거해 줌."
      ]
    },
    {
      "cell_type": "code",
      "metadata": {
        "colab": {
          "base_uri": "https://localhost:8080/"
        },
        "id": "DB8xphDfUUvN",
        "outputId": "b9f8dea6-596f-4f63-b276-14ff88acfb34"
      },
      "source": [
        "tokens = s.split(' ')         # split s into a list wherever a t is found (whitespace by default)\r\n",
        "tokens"
      ],
      "execution_count": null,
      "outputs": [
        {
          "output_type": "execute_result",
          "data": {
            "text/plain": [
              "['this', 'is', 'a', 'house', 'built', 'this', 'year.']"
            ]
          },
          "metadata": {
            "tags": []
          },
          "execution_count": 12
        }
      ]
    },
    {
      "cell_type": "markdown",
      "metadata": {
        "id": "dNgF6IuEz6YY"
      },
      "source": [
        "***s.split(‘ ‘) => 공백 단위로 문장을 끊어서 ‘list’화 해줌"
      ]
    },
    {
      "cell_type": "code",
      "metadata": {
        "colab": {
          "base_uri": "https://localhost:8080/",
          "height": 35
        },
        "id": "mtzWAkmmVGk2",
        "outputId": "82b17c3a-a7cc-4c4f-c1fe-d7591b53fbc5"
      },
      "source": [
        "s = ' '.join(tokens)         # combine the words of the text into a string using s as the glue\r\n",
        "s"
      ],
      "execution_count": null,
      "outputs": [
        {
          "output_type": "execute_result",
          "data": {
            "application/vnd.google.colaboratory.intrinsic+json": {
              "type": "string"
            },
            "text/plain": [
              "'this is a house built this year.'"
            ]
          },
          "metadata": {
            "tags": []
          },
          "execution_count": 13
        }
      ]
    },
    {
      "cell_type": "markdown",
      "metadata": {
        "id": "47gvtIiDz-R_"
      },
      "source": [
        "' '.join(~) => 고백 단위로 문장을 합쳐서 구성해줌"
      ]
    },
    {
      "cell_type": "code",
      "metadata": {
        "colab": {
          "base_uri": "https://localhost:8080/",
          "height": 35
        },
        "id": "BJgO8qIUUUxn",
        "outputId": "c4b6bcd1-2145-4efa-9b33-75538210bc97"
      },
      "source": [
        "s = s.replace('this', 'that')   # replace instances of t with u inside s\r\n",
        "s"
      ],
      "execution_count": null,
      "outputs": [
        {
          "output_type": "execute_result",
          "data": {
            "application/vnd.google.colaboratory.intrinsic+json": {
              "type": "string"
            },
            "text/plain": [
              "'that is a house built that year.'"
            ]
          },
          "metadata": {
            "tags": []
          },
          "execution_count": 14
        }
      ]
    },
    {
      "cell_type": "markdown",
      "metadata": {
        "id": "HFAIB8Pv0FWX"
      },
      "source": [
        "replace(a,b) => 문장 내 모든 a를 b로 바꿈"
      ]
    }
  ]
}