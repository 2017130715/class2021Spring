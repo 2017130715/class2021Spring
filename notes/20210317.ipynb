{
  "nbformat": 4,
  "nbformat_minor": 0,
  "metadata": {
    "colab": {
      "name": "20210317.ipynb",
      "provenance": [],
      "authorship_tag": "ABX9TyNZL2d/0+Ir7n9k/gGKLyA/",
      "include_colab_link": true
    },
    "kernelspec": {
      "name": "python3",
      "display_name": "Python 3"
    }
  },
  "cells": [
    {
      "cell_type": "markdown",
      "metadata": {
        "id": "view-in-github",
        "colab_type": "text"
      },
      "source": [
        "<a href=\"https://colab.research.google.com/github/2017130715/class2021Spring/blob/main/20210317.ipynb\" target=\"_parent\"><img src=\"https://colab.research.google.com/assets/colab-badge.svg\" alt=\"Open In Colab\"/></a>"
      ]
    },
    {
      "cell_type": "code",
      "metadata": {
        "colab": {
          "base_uri": "https://localhost:8080/"
        },
        "id": "rS9Xu1E-uMxq",
        "outputId": "579448ce-31fa-49de-a9c1-f4f86b5f24e8"
      },
      "source": [
        "a = [1, 2, 3, 4, 5, 6]\r\n",
        "for i in range(1, 6, 3):\r\n",
        "  for j in a:\r\n",
        "    if j >=4:\r\n",
        "      print(i*j)"
      ],
      "execution_count": 14,
      "outputs": [
        {
          "output_type": "stream",
          "text": [
            "4\n",
            "5\n",
            "6\n",
            "16\n",
            "20\n",
            "24\n"
          ],
          "name": "stdout"
        }
      ]
    },
    {
      "cell_type": "code",
      "metadata": {
        "colab": {
          "base_uri": "https://localhost:8080/"
        },
        "id": "jUqGAFUHvgaQ",
        "outputId": "16f89c86-2e85-4b2c-bd48-697fb028614a"
      },
      "source": [
        "a = range(1, 100, 10)\r\n",
        "b = [i for i in a if i>10]\r\n",
        "b"
      ],
      "execution_count": 9,
      "outputs": [
        {
          "output_type": "execute_result",
          "data": {
            "text/plain": [
              "[11, 21, 31, 41, 51, 61, 71, 81, 91]"
            ]
          },
          "metadata": {
            "tags": []
          },
          "execution_count": 9
        }
      ]
    }
  ]
}