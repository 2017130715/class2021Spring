{
  "nbformat": 4,
  "nbformat_minor": 0,
  "metadata": {
    "colab": {
      "name": "20210331.ipynb",
      "provenance": [],
      "authorship_tag": "ABX9TyN5dg3EksrMoE0hDuoE6jKT",
      "include_colab_link": true
    },
    "kernelspec": {
      "name": "python3",
      "display_name": "Python 3"
    },
    "language_info": {
      "name": "python"
    }
  },
  "cells": [
    {
      "cell_type": "markdown",
      "metadata": {
        "id": "view-in-github",
        "colab_type": "text"
      },
      "source": [
        "<a href=\"https://colab.research.google.com/github/2017130715/class2021Spring/blob/main/20210331.ipynb\" target=\"_parent\"><img src=\"https://colab.research.google.com/assets/colab-badge.svg\" alt=\"Open In Colab\"/></a>"
      ]
    },
    {
      "cell_type": "markdown",
      "metadata": {
        "id": "6cGADyDD3-0s"
      },
      "source": [
        "*Duration\n",
        " a - 0.410756 sec/\n",
        " e - 0.310 sec\n",
        "\n",
        "*Pitch\n",
        " a - 105.7 Hz/\n",
        " e - 100.9 Hz\n",
        "\n",
        "*Intensity\n",
        " a - 89.63 dB/\n",
        " e - 82.05 dB\n",
        "\n",
        "*Formant\n",
        " a - first:933.8 Hz, second:1223 Hz/\n",
        " e - first:548.7 Hz, second:1896 Hz"
      ]
    }
  ]
}