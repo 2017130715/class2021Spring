{
  "nbformat": 4,
  "nbformat_minor": 0,
  "metadata": {
    "colab": {
      "name": "20210426.ipynb",
      "provenance": [],
      "authorship_tag": "ABX9TyOMMbaDizY16AArjWgcgbga",
      "include_colab_link": true
    },
    "kernelspec": {
      "name": "python3",
      "display_name": "Python 3"
    },
    "language_info": {
      "name": "python"
    }
  },
  "cells": [
    {
      "cell_type": "markdown",
      "metadata": {
        "id": "view-in-github",
        "colab_type": "text"
      },
      "source": [
        "<a href=\"https://colab.research.google.com/github/2017130715/class2021Spring/blob/main/20210426.ipynb\" target=\"_parent\"><img src=\"https://colab.research.google.com/assets/colab-badge.svg\" alt=\"Open In Colab\"/></a>"
      ]
    },
    {
      "cell_type": "code",
      "metadata": {
        "id": "Ueynx1ySnPFy"
      },
      "source": [
        "%matplotlib inline\n",
        "from matplotlib import pyplot as plt\n",
        "import IPython.display as ipd\n",
        "import numpy as np\n",
        "from scipy.signal import lfilter"
      ],
      "execution_count": 2,
      "outputs": []
    },
    {
      "cell_type": "code",
      "metadata": {
        "id": "glf-1RKuxUEy"
      },
      "source": [
        "def phaser(amp, sr, dur, freq):\n",
        "  t = np.arange(amp, sr * dur+1)/sr\n",
        "  theta = t * 2*np.pi * freq\n",
        "  s = np.sin(theta)\n",
        "  return s, theta, t"
      ],
      "execution_count": 18,
      "outputs": []
    },
    {
      "cell_type": "code",
      "metadata": {
        "colab": {
          "base_uri": "https://localhost:8080/"
        },
        "id": "VQnBD2fsyR5R",
        "outputId": "fde95a8d-3c96-46e9-fbdc-8b8b21905aa9"
      },
      "source": [
        "phaser(2, 20000, 1, 400)"
      ],
      "execution_count": 22,
      "outputs": [
        {
          "output_type": "execute_result",
          "data": {
            "text/plain": [
              "(array([ 2.48689887e-01,  3.68124553e-01,  4.81753674e-01, ...,\n",
              "        -2.48689887e-01, -1.25333234e-01,  1.57150938e-14]),\n",
              " array([2.51327412e-01, 3.76991118e-01, 5.02654825e-01, ...,\n",
              "        2.51302280e+03, 2.51314846e+03, 2.51327412e+03]),\n",
              " array([1.0000e-04, 1.5000e-04, 2.0000e-04, ..., 9.9990e-01, 9.9995e-01,\n",
              "        1.0000e+00]))"
            ]
          },
          "metadata": {
            "tags": []
          },
          "execution_count": 22
        }
      ]
    }
  ]
}